{
  "nbformat": 4,
  "nbformat_minor": 0,
  "metadata": {
    "colab": {
      "provenance": [],
      "toc_visible": true,
      "authorship_tag": "ABX9TyPZipKM0VprK/91YCVHoGZt",
      "include_colab_link": true
    },
    "kernelspec": {
      "name": "python3",
      "display_name": "Python 3"
    },
    "language_info": {
      "name": "python"
    }
  },
  "cells": [
    {
      "cell_type": "markdown",
      "metadata": {
        "id": "view-in-github",
        "colab_type": "text"
      },
      "source": [
        "<a href=\"https://colab.research.google.com/github/Annapoornadwivedi/Machine-Learning-30-days-of-code/blob/main/day21.ipynb\" target=\"_parent\"><img src=\"https://colab.research.google.com/assets/colab-badge.svg\" alt=\"Open In Colab\"/></a>"
      ]
    },
    {
      "cell_type": "markdown",
      "source": [
        "## Music recommendation system"
      ],
      "metadata": {
        "id": "yQ5ac12FDgYl"
      }
    },
    {
      "cell_type": "code",
      "source": [
        "import numpy as np\n",
        "import pandas as pd"
      ],
      "metadata": {
        "id": "M2m4qhBzDkNG"
      },
      "execution_count": null,
      "outputs": []
    },
    {
      "cell_type": "markdown",
      "source": [
        "## load dataset"
      ],
      "metadata": {
        "id": "pykAN6_DD6Tw"
      }
    },
    {
      "cell_type": "code",
      "source": [
        "df = pd.read_csv('/content/songdata.csv')\n",
        "df.head()"
      ],
      "metadata": {
        "id": "eISSsDqQD4qU",
        "colab": {
          "base_uri": "https://localhost:8080/",
          "height": 379
        },
        "outputId": "53c5e5ab-dcdb-46d4-e507-1eba5b89f37b"
      },
      "execution_count": null,
      "outputs": [
        {
          "output_type": "execute_result",
          "data": {
            "text/plain": [
              "  artist                   song                                        link  \\\n",
              "0   ABBA  Ahe's My Kind Of Girl  /a/abba/ahes+my+kind+of+girl_20598417.html   \n",
              "1   ABBA       Andante, Andante       /a/abba/andante+andante_20002708.html   \n",
              "2   ABBA         As Good As New        /a/abba/as+good+as+new_20003033.html   \n",
              "3   ABBA                   Bang                  /a/abba/bang_20598415.html   \n",
              "4   ABBA       Bang-A-Boomerang      /a/abba/bang+a+boomerang_20002668.html   \n",
              "\n",
              "                                                text  \n",
              "0  Look at her face, it's a wonderful face  \\nAnd...  \n",
              "1  Take it easy with me, please  \\nTouch me gentl...  \n",
              "2  I'll never know why I had to go  \\nWhy I had t...  \n",
              "3  Making somebody happy is a question of give an...  \n",
              "4  Making somebody happy is a question of give an...  "
            ],
            "text/html": [
              "\n",
              "  <div id=\"df-9d3afce0-b0b4-4999-86b3-31417c079839\" class=\"colab-df-container\">\n",
              "    <div>\n",
              "<style scoped>\n",
              "    .dataframe tbody tr th:only-of-type {\n",
              "        vertical-align: middle;\n",
              "    }\n",
              "\n",
              "    .dataframe tbody tr th {\n",
              "        vertical-align: top;\n",
              "    }\n",
              "\n",
              "    .dataframe thead th {\n",
              "        text-align: right;\n",
              "    }\n",
              "</style>\n",
              "<table border=\"1\" class=\"dataframe\">\n",
              "  <thead>\n",
              "    <tr style=\"text-align: right;\">\n",
              "      <th></th>\n",
              "      <th>artist</th>\n",
              "      <th>song</th>\n",
              "      <th>link</th>\n",
              "      <th>text</th>\n",
              "    </tr>\n",
              "  </thead>\n",
              "  <tbody>\n",
              "    <tr>\n",
              "      <th>0</th>\n",
              "      <td>ABBA</td>\n",
              "      <td>Ahe's My Kind Of Girl</td>\n",
              "      <td>/a/abba/ahes+my+kind+of+girl_20598417.html</td>\n",
              "      <td>Look at her face, it's a wonderful face  \\nAnd...</td>\n",
              "    </tr>\n",
              "    <tr>\n",
              "      <th>1</th>\n",
              "      <td>ABBA</td>\n",
              "      <td>Andante, Andante</td>\n",
              "      <td>/a/abba/andante+andante_20002708.html</td>\n",
              "      <td>Take it easy with me, please  \\nTouch me gentl...</td>\n",
              "    </tr>\n",
              "    <tr>\n",
              "      <th>2</th>\n",
              "      <td>ABBA</td>\n",
              "      <td>As Good As New</td>\n",
              "      <td>/a/abba/as+good+as+new_20003033.html</td>\n",
              "      <td>I'll never know why I had to go  \\nWhy I had t...</td>\n",
              "    </tr>\n",
              "    <tr>\n",
              "      <th>3</th>\n",
              "      <td>ABBA</td>\n",
              "      <td>Bang</td>\n",
              "      <td>/a/abba/bang_20598415.html</td>\n",
              "      <td>Making somebody happy is a question of give an...</td>\n",
              "    </tr>\n",
              "    <tr>\n",
              "      <th>4</th>\n",
              "      <td>ABBA</td>\n",
              "      <td>Bang-A-Boomerang</td>\n",
              "      <td>/a/abba/bang+a+boomerang_20002668.html</td>\n",
              "      <td>Making somebody happy is a question of give an...</td>\n",
              "    </tr>\n",
              "  </tbody>\n",
              "</table>\n",
              "</div>\n",
              "    <div class=\"colab-df-buttons\">\n",
              "\n",
              "  <div class=\"colab-df-container\">\n",
              "    <button class=\"colab-df-convert\" onclick=\"convertToInteractive('df-9d3afce0-b0b4-4999-86b3-31417c079839')\"\n",
              "            title=\"Convert this dataframe to an interactive table.\"\n",
              "            style=\"display:none;\">\n",
              "\n",
              "  <svg xmlns=\"http://www.w3.org/2000/svg\" height=\"24px\" viewBox=\"0 -960 960 960\">\n",
              "    <path d=\"M120-120v-720h720v720H120Zm60-500h600v-160H180v160Zm220 220h160v-160H400v160Zm0 220h160v-160H400v160ZM180-400h160v-160H180v160Zm440 0h160v-160H620v160ZM180-180h160v-160H180v160Zm440 0h160v-160H620v160Z\"/>\n",
              "  </svg>\n",
              "    </button>\n",
              "\n",
              "  <style>\n",
              "    .colab-df-container {\n",
              "      display:flex;\n",
              "      gap: 12px;\n",
              "    }\n",
              "\n",
              "    .colab-df-convert {\n",
              "      background-color: #E8F0FE;\n",
              "      border: none;\n",
              "      border-radius: 50%;\n",
              "      cursor: pointer;\n",
              "      display: none;\n",
              "      fill: #1967D2;\n",
              "      height: 32px;\n",
              "      padding: 0 0 0 0;\n",
              "      width: 32px;\n",
              "    }\n",
              "\n",
              "    .colab-df-convert:hover {\n",
              "      background-color: #E2EBFA;\n",
              "      box-shadow: 0px 1px 2px rgba(60, 64, 67, 0.3), 0px 1px 3px 1px rgba(60, 64, 67, 0.15);\n",
              "      fill: #174EA6;\n",
              "    }\n",
              "\n",
              "    .colab-df-buttons div {\n",
              "      margin-bottom: 4px;\n",
              "    }\n",
              "\n",
              "    [theme=dark] .colab-df-convert {\n",
              "      background-color: #3B4455;\n",
              "      fill: #D2E3FC;\n",
              "    }\n",
              "\n",
              "    [theme=dark] .colab-df-convert:hover {\n",
              "      background-color: #434B5C;\n",
              "      box-shadow: 0px 1px 3px 1px rgba(0, 0, 0, 0.15);\n",
              "      filter: drop-shadow(0px 1px 2px rgba(0, 0, 0, 0.3));\n",
              "      fill: #FFFFFF;\n",
              "    }\n",
              "  </style>\n",
              "\n",
              "    <script>\n",
              "      const buttonEl =\n",
              "        document.querySelector('#df-9d3afce0-b0b4-4999-86b3-31417c079839 button.colab-df-convert');\n",
              "      buttonEl.style.display =\n",
              "        google.colab.kernel.accessAllowed ? 'block' : 'none';\n",
              "\n",
              "      async function convertToInteractive(key) {\n",
              "        const element = document.querySelector('#df-9d3afce0-b0b4-4999-86b3-31417c079839');\n",
              "        const dataTable =\n",
              "          await google.colab.kernel.invokeFunction('convertToInteractive',\n",
              "                                                    [key], {});\n",
              "        if (!dataTable) return;\n",
              "\n",
              "        const docLinkHtml = 'Like what you see? Visit the ' +\n",
              "          '<a target=\"_blank\" href=https://colab.research.google.com/notebooks/data_table.ipynb>data table notebook</a>'\n",
              "          + ' to learn more about interactive tables.';\n",
              "        element.innerHTML = '';\n",
              "        dataTable['output_type'] = 'display_data';\n",
              "        await google.colab.output.renderOutput(dataTable, element);\n",
              "        const docLink = document.createElement('div');\n",
              "        docLink.innerHTML = docLinkHtml;\n",
              "        element.appendChild(docLink);\n",
              "      }\n",
              "    </script>\n",
              "  </div>\n",
              "\n",
              "\n",
              "<div id=\"df-cc308911-22cd-416e-90b7-1cc5952b118d\">\n",
              "  <button class=\"colab-df-quickchart\" onclick=\"quickchart('df-cc308911-22cd-416e-90b7-1cc5952b118d')\"\n",
              "            title=\"Suggest charts\"\n",
              "            style=\"display:none;\">\n",
              "\n",
              "<svg xmlns=\"http://www.w3.org/2000/svg\" height=\"24px\"viewBox=\"0 0 24 24\"\n",
              "     width=\"24px\">\n",
              "    <g>\n",
              "        <path d=\"M19 3H5c-1.1 0-2 .9-2 2v14c0 1.1.9 2 2 2h14c1.1 0 2-.9 2-2V5c0-1.1-.9-2-2-2zM9 17H7v-7h2v7zm4 0h-2V7h2v10zm4 0h-2v-4h2v4z\"/>\n",
              "    </g>\n",
              "</svg>\n",
              "  </button>\n",
              "\n",
              "<style>\n",
              "  .colab-df-quickchart {\n",
              "      --bg-color: #E8F0FE;\n",
              "      --fill-color: #1967D2;\n",
              "      --hover-bg-color: #E2EBFA;\n",
              "      --hover-fill-color: #174EA6;\n",
              "      --disabled-fill-color: #AAA;\n",
              "      --disabled-bg-color: #DDD;\n",
              "  }\n",
              "\n",
              "  [theme=dark] .colab-df-quickchart {\n",
              "      --bg-color: #3B4455;\n",
              "      --fill-color: #D2E3FC;\n",
              "      --hover-bg-color: #434B5C;\n",
              "      --hover-fill-color: #FFFFFF;\n",
              "      --disabled-bg-color: #3B4455;\n",
              "      --disabled-fill-color: #666;\n",
              "  }\n",
              "\n",
              "  .colab-df-quickchart {\n",
              "    background-color: var(--bg-color);\n",
              "    border: none;\n",
              "    border-radius: 50%;\n",
              "    cursor: pointer;\n",
              "    display: none;\n",
              "    fill: var(--fill-color);\n",
              "    height: 32px;\n",
              "    padding: 0;\n",
              "    width: 32px;\n",
              "  }\n",
              "\n",
              "  .colab-df-quickchart:hover {\n",
              "    background-color: var(--hover-bg-color);\n",
              "    box-shadow: 0 1px 2px rgba(60, 64, 67, 0.3), 0 1px 3px 1px rgba(60, 64, 67, 0.15);\n",
              "    fill: var(--button-hover-fill-color);\n",
              "  }\n",
              "\n",
              "  .colab-df-quickchart-complete:disabled,\n",
              "  .colab-df-quickchart-complete:disabled:hover {\n",
              "    background-color: var(--disabled-bg-color);\n",
              "    fill: var(--disabled-fill-color);\n",
              "    box-shadow: none;\n",
              "  }\n",
              "\n",
              "  .colab-df-spinner {\n",
              "    border: 2px solid var(--fill-color);\n",
              "    border-color: transparent;\n",
              "    border-bottom-color: var(--fill-color);\n",
              "    animation:\n",
              "      spin 1s steps(1) infinite;\n",
              "  }\n",
              "\n",
              "  @keyframes spin {\n",
              "    0% {\n",
              "      border-color: transparent;\n",
              "      border-bottom-color: var(--fill-color);\n",
              "      border-left-color: var(--fill-color);\n",
              "    }\n",
              "    20% {\n",
              "      border-color: transparent;\n",
              "      border-left-color: var(--fill-color);\n",
              "      border-top-color: var(--fill-color);\n",
              "    }\n",
              "    30% {\n",
              "      border-color: transparent;\n",
              "      border-left-color: var(--fill-color);\n",
              "      border-top-color: var(--fill-color);\n",
              "      border-right-color: var(--fill-color);\n",
              "    }\n",
              "    40% {\n",
              "      border-color: transparent;\n",
              "      border-right-color: var(--fill-color);\n",
              "      border-top-color: var(--fill-color);\n",
              "    }\n",
              "    60% {\n",
              "      border-color: transparent;\n",
              "      border-right-color: var(--fill-color);\n",
              "    }\n",
              "    80% {\n",
              "      border-color: transparent;\n",
              "      border-right-color: var(--fill-color);\n",
              "      border-bottom-color: var(--fill-color);\n",
              "    }\n",
              "    90% {\n",
              "      border-color: transparent;\n",
              "      border-bottom-color: var(--fill-color);\n",
              "    }\n",
              "  }\n",
              "</style>\n",
              "\n",
              "  <script>\n",
              "    async function quickchart(key) {\n",
              "      const quickchartButtonEl =\n",
              "        document.querySelector('#' + key + ' button');\n",
              "      quickchartButtonEl.disabled = true;  // To prevent multiple clicks.\n",
              "      quickchartButtonEl.classList.add('colab-df-spinner');\n",
              "      try {\n",
              "        const charts = await google.colab.kernel.invokeFunction(\n",
              "            'suggestCharts', [key], {});\n",
              "      } catch (error) {\n",
              "        console.error('Error during call to suggestCharts:', error);\n",
              "      }\n",
              "      quickchartButtonEl.classList.remove('colab-df-spinner');\n",
              "      quickchartButtonEl.classList.add('colab-df-quickchart-complete');\n",
              "    }\n",
              "    (() => {\n",
              "      let quickchartButtonEl =\n",
              "        document.querySelector('#df-cc308911-22cd-416e-90b7-1cc5952b118d button');\n",
              "      quickchartButtonEl.style.display =\n",
              "        google.colab.kernel.accessAllowed ? 'block' : 'none';\n",
              "    })();\n",
              "  </script>\n",
              "</div>\n",
              "\n",
              "    </div>\n",
              "  </div>\n"
            ],
            "application/vnd.google.colaboratory.intrinsic+json": {
              "type": "dataframe",
              "variable_name": "df",
              "summary": "{\n  \"name\": \"df\",\n  \"rows\": 57650,\n  \"fields\": [\n    {\n      \"column\": \"artist\",\n      \"properties\": {\n        \"dtype\": \"category\",\n        \"num_unique_values\": 643,\n        \"samples\": [\n          \"Ziggy Marley\",\n          \"O.A.R.\",\n          \"Styx\"\n        ],\n        \"semantic_type\": \"\",\n        \"description\": \"\"\n      }\n    },\n    {\n      \"column\": \"song\",\n      \"properties\": {\n        \"dtype\": \"string\",\n        \"num_unique_values\": 44824,\n        \"samples\": [\n          \"Tear Me Down\",\n          \"Lakky Lady\",\n          \"They All Went To Mexico\"\n        ],\n        \"semantic_type\": \"\",\n        \"description\": \"\"\n      }\n    },\n    {\n      \"column\": \"link\",\n      \"properties\": {\n        \"dtype\": \"string\",\n        \"num_unique_values\": 57650,\n        \"samples\": [\n          \"/w/wishbone+ash/right+or+wrong_20147150.html\",\n          \"/a/aerosmith/this+little+light+of+mine_20644484.html\",\n          \"/f/fall+out+boy/dance+dance_10113666.html\"\n        ],\n        \"semantic_type\": \"\",\n        \"description\": \"\"\n      }\n    },\n    {\n      \"column\": \"text\",\n      \"properties\": {\n        \"dtype\": \"string\",\n        \"num_unique_values\": 57494,\n        \"samples\": [\n          \"When the grey skies turn to blue  \\nAnd the dark clouds blow away  \\nIn the morning of a new life  \\nWhen the sun comes shining through  \\nWhen the grey skies turn to blue  \\nIn the morning of a new life  \\nWhen the sun comes shining through  \\nWhen the grey skies turn to blue  \\nMeet me on a bright and windy day  \\nWhen the breeze has blown  \\nThe gray skies far away  \\nHigh upon a hillside  \\nWhen the sun comes shining through  \\nAnd the grey skies turn to blue  \\nWhen the grey skies turn to blue  \\nWhen the grey skies turn to blue  \\n\\n\",\n          \"I met a girl a wonderful girl  \\nWho's really got a lot to recommend her for a girl  \\nFabulous creature without any doubt  \\nHey what am I getting so excited about  \\nShe's just a girl an everyday girl  \\nAnd yet I guess she's really rather special for a girl  \\nFor once you've seen her the others are not  \\nHey what am I getting so excited about  \\nBut so what what has she got others have not  \\nTwo eyes two lips a nose all girls have some of those  \\nBut when she looks up at me what do I see  \\nThe most enchanting face my pulse begins to race  \\nHey I met a girl a marvelous girl  \\nShe rarer than uranium and fairer than a pearl  \\nFound me a treasure and I want to shout  \\nHey what am I getting so excited about  \\nBut so what what has she got others have not  \\nTwo eyes two lips a nose all girls have some of those  \\nBut when she looks up at me what do I see  \\nThe most enchanting face my pulse begins to race  \\n(I got a girl a marvelous girl)  \\n(She rarer than uranium and fairer than a pearl)  \\nFound me a treasure and I want to shout  \\nThis is what am I getting so excited about  \\n(He met a girl) and I fell in love today\\n\\n\",\n          \"She's over by the corner  \\nGot her hands by her sides  \\nThey hit her harder harder harder  \\nTill they thought she might die  \\n  \\nWell I got a foggy notion,  \\nDo it again  \\nOver by the corner,  \\nDo it again  \\nI got my calamine lotion baby,  \\nDo it again  \\nI got a foggy notion,  \\nDo it again  \\n  \\nShe made me do something  \\nThat I never did before  \\nI rushed right down  \\nTo a flower store  \\nI bought her a bundle  \\nA beautiful batch  \\nDon't you know something,  \\nShe sent 'em right back  \\n  \\nSally Mae, Sally Mae,  \\nSally Mae, Sally Mae  \\nSally Mae, Sally Mae,  \\nSally Mae, Sally Mae\\n\\n\"\n        ],\n        \"semantic_type\": \"\",\n        \"description\": \"\"\n      }\n    }\n  ]\n}"
            }
          },
          "metadata": {},
          "execution_count": 4
        }
      ]
    },
    {
      "cell_type": "code",
      "source": [
        "df.shape"
      ],
      "metadata": {
        "id": "xFn6S4k1EBqc",
        "colab": {
          "base_uri": "https://localhost:8080/"
        },
        "outputId": "7e00b57e-f4b4-46e8-a11c-3d130386ff2d"
      },
      "execution_count": null,
      "outputs": [
        {
          "output_type": "execute_result",
          "data": {
            "text/plain": [
              "(57650, 4)"
            ]
          },
          "metadata": {},
          "execution_count": 5
        }
      ]
    },
    {
      "cell_type": "code",
      "source": [
        "df = df.sample(n=5000).drop('link', axis=1).reset_index(drop=True)\n",
        "df.shape"
      ],
      "metadata": {
        "id": "T3HtwpPZEIQy",
        "colab": {
          "base_uri": "https://localhost:8080/"
        },
        "outputId": "959b8f7d-8084-4cb5-98f1-b4e461ee00a4"
      },
      "execution_count": null,
      "outputs": [
        {
          "output_type": "execute_result",
          "data": {
            "text/plain": [
              "(5000, 3)"
            ]
          },
          "metadata": {},
          "execution_count": 6
        }
      ]
    },
    {
      "cell_type": "code",
      "source": [
        "df['text'] = df['text'].str.lower().replace(r'[^\\w\\s]','').replace(r'\\n',' ', regex=True)"
      ],
      "metadata": {
        "id": "79mpF_UNERWD"
      },
      "execution_count": null,
      "outputs": []
    },
    {
      "cell_type": "code",
      "source": [
        "df['text'][0]"
      ],
      "metadata": {
        "id": "L27yBfArEVUR",
        "colab": {
          "base_uri": "https://localhost:8080/",
          "height": 209
        },
        "outputId": "060a65e8-b01a-4a5e-cd2a-48509caa251c"
      },
      "execution_count": null,
      "outputs": [
        {
          "output_type": "execute_result",
          "data": {
            "text/plain": [
              "\"walk away when you're angry   brace yourself, there's nothing to gain   old enough to know the outcome   more blood, it's always the same      [chorus]   aren't we cool and aren't we calm?   for facing death, we run it on   aren't we cool and aren't we calm?   the god reserved a false alarm   aren't we cool and arent we calm?   for facing death, we run it on      do what they say   or they take it away   i'd rather be dead than   carry on      wait   but you live, dont be cursing   you mustn't take gods name in vain   wait   put your knife forward the curtain   impulsives, you must refrain      [chorus]      do what they say   or they take it away   i'd rather be dead than   carry on      so we carry on   with this burden   i can't remember anything   i can't be certain      aren't we cool and aren't we calm?   for facing death, we run it on   do what they say   or they take it away   i'd rather be dead than   carry on  \""
            ],
            "application/vnd.google.colaboratory.intrinsic+json": {
              "type": "string"
            }
          },
          "metadata": {},
          "execution_count": 8
        }
      ]
    },
    {
      "cell_type": "code",
      "source": [
        "import nltk\n",
        "# Download the 'punkt' resource\n",
        "nltk.download('punkt')"
      ],
      "metadata": {
        "colab": {
          "base_uri": "https://localhost:8080/"
        },
        "id": "h3S4U6S5L2LJ",
        "outputId": "2fc34e44-ef8e-4125-df2e-46d9a2b55edf"
      },
      "execution_count": null,
      "outputs": [
        {
          "output_type": "stream",
          "name": "stderr",
          "text": [
            "[nltk_data] Downloading package punkt to /root/nltk_data...\n",
            "[nltk_data]   Unzipping tokenizers/punkt.zip.\n"
          ]
        },
        {
          "output_type": "execute_result",
          "data": {
            "text/plain": [
              "True"
            ]
          },
          "metadata": {},
          "execution_count": 13
        }
      ]
    },
    {
      "cell_type": "code",
      "source": [
        "\n",
        "from nltk.stem.porter import PorterStemmer\n",
        "stemmer = PorterStemmer()\n",
        "\n",
        "def tokenization(txt):\n",
        "    tokens = nltk.word_tokenize(txt)\n",
        "    stemming = [stemmer.stem(w) for w in tokens]\n",
        "    return \" \".join(stemming)"
      ],
      "metadata": {
        "id": "RPcRvw3FEYNu"
      },
      "execution_count": null,
      "outputs": []
    },
    {
      "cell_type": "code",
      "source": [
        "df['text'] = df['text'].apply(lambda x: tokenization(x))"
      ],
      "metadata": {
        "id": "GvDmuR3hEcnX"
      },
      "execution_count": null,
      "outputs": []
    },
    {
      "cell_type": "code",
      "source": [
        "from sklearn.feature_extraction.text import TfidfVectorizer\n",
        "from sklearn.metrics.pairwise import cosine_similarity"
      ],
      "metadata": {
        "id": "uuV9u1EHEc3W"
      },
      "execution_count": null,
      "outputs": []
    },
    {
      "cell_type": "code",
      "source": [
        "tfidvector = TfidfVectorizer(analyzer='word',stop_words='english')\n",
        "matrix = tfidvector.fit_transform(df['text'])\n",
        "similarity = cosine_similarity(matrix)"
      ],
      "metadata": {
        "id": "_fMLu-IGEpvG"
      },
      "execution_count": null,
      "outputs": []
    },
    {
      "cell_type": "code",
      "source": [
        "similarity[0]"
      ],
      "metadata": {
        "id": "KXqonHqdEt9h",
        "colab": {
          "base_uri": "https://localhost:8080/"
        },
        "outputId": "c1c1e902-667c-43ca-e782-27588ddcebe8"
      },
      "execution_count": null,
      "outputs": [
        {
          "output_type": "execute_result",
          "data": {
            "text/plain": [
              "array([1.        , 0.01627356, 0.03352344, ..., 0.0229197 , 0.01571545,\n",
              "       0.01460171])"
            ]
          },
          "metadata": {},
          "execution_count": 18
        }
      ]
    },
    {
      "cell_type": "code",
      "source": [
        "empty_songs = df[df['song'] == '']\n",
        "if not empty_songs.empty:\n",
        "    index_of_first_empty_song = empty_songs.index[0]\n",
        "    print(index_of_first_empty_song)\n",
        "else:\n",
        "    print(\"No songs are empty strings.\")"
      ],
      "metadata": {
        "id": "zFUaDnEeEzH3",
        "colab": {
          "base_uri": "https://localhost:8080/"
        },
        "outputId": "ef61eb27-4364-464e-9e4f-64511e517138"
      },
      "execution_count": null,
      "outputs": [
        {
          "output_type": "stream",
          "name": "stdout",
          "text": [
            "No songs are empty strings.\n"
          ]
        }
      ]
    },
    {
      "cell_type": "markdown",
      "source": [
        "## recommendation system"
      ],
      "metadata": {
        "id": "N7LPz9WQFedx"
      }
    },
    {
      "cell_type": "code",
      "source": [
        "def recommendation(song_df):\n",
        "    idx = df[df['song'] == song_df].index[0]\n",
        "    distances = sorted(list(enumerate(similarity[idx])),reverse=True,key=lambda x:x[1])\n",
        "\n",
        "    songs = []\n",
        "    for m_id in distances[1:21]:\n",
        "        songs.append(df.iloc[m_id[0]].song)\n",
        "\n",
        "    return songs"
      ],
      "metadata": {
        "id": "gjjGB-gTE2eP"
      },
      "execution_count": null,
      "outputs": []
    },
    {
      "cell_type": "code",
      "source": [
        "def recommendation(song_df, df, similarity): # Added df and similarity as arguments\n",
        "    # Convert song_df and 'song' column to lowercase for case-insensitive matching\n",
        "    song_df_lower = song_df.lower()\n",
        "    df['song_lower'] = df['song'].str.lower()\n",
        "\n",
        "    idx = df[df['song_lower'] == song_df_lower].index\n",
        "    if idx.empty:\n",
        "        print(f\"Song '{song_df}' not found in the dataset.\")\n",
        "        return []  # Return an empty list if song not found\n",
        "\n",
        "    idx = idx[0] # Extract the index value after checking if it's not empty\n",
        "    distances = sorted(list(enumerate(similarity[idx])),reverse=True,key=lambda x:x[1])\n",
        "\n",
        "    songs = []\n",
        "    for m_id in distances[1:21]:\n",
        "        songs.append(df.iloc[m_id[0]].song)\n",
        "\n",
        "    return songs"
      ],
      "metadata": {
        "id": "8j24xA3iE7OQ"
      },
      "execution_count": null,
      "outputs": []
    },
    {
      "cell_type": "code",
      "source": [
        "import pickle\n",
        "pickle.dump(similarity,open('similarity.pkl','wb'))\n",
        "pickle.dump(df,open('df.pkl','wb'))"
      ],
      "metadata": {
        "id": "NdVdaWx4FAFg"
      },
      "execution_count": null,
      "outputs": []
    }
  ]
}